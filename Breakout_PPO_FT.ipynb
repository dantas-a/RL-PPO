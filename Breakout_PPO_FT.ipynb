{
 "cells": [
  {
   "cell_type": "code",
   "execution_count": null,
   "id": "3199cc16-b05f-4f00-92b9-42e844b716ae",
   "metadata": {},
   "outputs": [],
   "source": [
    "from stable_baselines3.common.env_util import make_atari_env\n",
    "import time"
   ]
  },
  {
   "cell_type": "code",
   "execution_count": null,
   "id": "55f14b06-2814-4030-b4e9-d341835954a5",
   "metadata": {},
   "outputs": [],
   "source": [
    "env = make_atari_env(\"BreakoutNoFrameskip-v4\", seed = 0,monitor_dir='./logs/')"
   ]
  },
  {
   "cell_type": "code",
   "execution_count": null,
   "id": "12714e6b-1e10-4388-ad49-1d24dff89303",
   "metadata": {},
   "outputs": [],
   "source": [
    "from stable_baselines3.common.callbacks import BaseCallback\n",
    "import os"
   ]
  },
  {
   "cell_type": "code",
   "execution_count": null,
   "id": "95a852c6-7524-45ee-ae4b-825683ada792",
   "metadata": {},
   "outputs": [],
   "source": [
    "class TrainAndLoggingCallback(BaseCallback):\n",
    "    def __init__(self,check_freq,save_path, verbose=1):\n",
    "        super(TrainAndLoggingCallback,self).__init__(verbose)\n",
    "        self.check_freq = check_freq\n",
    "        self.save_path = save_path\n",
    "\n",
    "    def _init_callback(self):\n",
    "        if self.save_path is not None:\n",
    "            os.makedirs(self.save_path,exist_ok=True)\n",
    "\n",
    "    def _on_step(self):\n",
    "        if self.n_calls % self.check_freq == 0:\n",
    "            model_path = os.path.join(self.save_path,'best_model_ppo_{}'.format(self.n_calls))\n",
    "            self.model.save(model_path)\n",
    "\n",
    "        return True"
   ]
  },
  {
   "cell_type": "code",
   "execution_count": null,
   "id": "d8a0f6ba-7059-4f14-84e1-587eae96197f",
   "metadata": {},
   "outputs": [],
   "source": [
    "CHECKPOINT_DIR = './train/'\n",
    "\n",
    "callback = TrainAndLoggingCallback(check_freq=10000, save_path = CHECKPOINT_DIR)"
   ]
  },
  {
   "cell_type": "code",
   "execution_count": null,
   "id": "6e342d45-9a97-449b-8574-2fbe647d7061",
   "metadata": {},
   "outputs": [],
   "source": [
    "from stable_baselines3 import PPO\n",
    "from stable_baselines3.common.vec_env import VecFrameStack"
   ]
  },
  {
   "cell_type": "code",
   "execution_count": null,
   "id": "cb4faa95-2d22-4165-95d8-cbfd136091ba",
   "metadata": {},
   "outputs": [],
   "source": [
    "#Empile 4 images consécutives\n",
    "env = VecFrameStack(env, 4)"
   ]
  },
  {
   "cell_type": "markdown",
   "id": "560a3a6c-9bb8-4a32-a830-f198ac7e5b42",
   "metadata": {},
   "source": [
    "#### Lancer entrainement depuis zéro"
   ]
  },
  {
   "cell_type": "code",
   "execution_count": null,
   "id": "df000eb9-6b24-4b17-811a-fd20cb6863a1",
   "metadata": {
    "scrolled": true
   },
   "outputs": [],
   "source": [
    "# Construction du modèle \n",
    "# 1 er Essai \n",
    "#model = PPO('CnnPolicy',env,ent_coef=0.01,tensorboard_log='./logs/',verbose=1)\n",
    "# 2 ème Essai\n",
    "model = PPO('CnnPolicy',env,batch_size=1024, clip_range = 0.1, learning_rate = 0.00025,ent_coef=0.01,tensorboard_log='./logs/',verbose=1)\n",
    "\n",
    "model.learn(total_timesteps = 10000000, callback = callback)"
   ]
  }
 ],
 "metadata": {
  "kernelspec": {
   "display_name": "PBIA_Env",
   "language": "python",
   "name": "pbia_env"
  },
  "language_info": {
   "codemirror_mode": {
    "name": "ipython",
    "version": 3
   },
   "file_extension": ".py",
   "mimetype": "text/x-python",
   "name": "python",
   "nbconvert_exporter": "python",
   "pygments_lexer": "ipython3",
   "version": "3.7.17"
  }
 },
 "nbformat": 4,
 "nbformat_minor": 5
}

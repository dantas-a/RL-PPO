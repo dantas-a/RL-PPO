{
 "cells": [
  {
   "cell_type": "code",
   "execution_count": 1,
   "id": "3199cc16-b05f-4f00-92b9-42e844b716ae",
   "metadata": {},
   "outputs": [
    {
     "name": "stderr",
     "output_type": "stream",
     "text": [
      "/home/alexandre/INSA/GM5/T2/PBIA/PBIA_Env/lib/python3.7/site-packages/tqdm/auto.py:21: TqdmWarning: IProgress not found. Please update jupyter and ipywidgets. See https://ipywidgets.readthedocs.io/en/stable/user_install.html\n",
      "  from .autonotebook import tqdm as notebook_tqdm\n"
     ]
    }
   ],
   "source": [
    "from stable_baselines3.common.env_util import make_atari_env\n",
    "import time"
   ]
  },
  {
   "cell_type": "code",
   "execution_count": 2,
   "id": "55f14b06-2814-4030-b4e9-d341835954a5",
   "metadata": {},
   "outputs": [],
   "source": [
    "env = make_atari_env(\"BreakoutNoFrameskip-v4\")"
   ]
  },
  {
   "cell_type": "code",
   "execution_count": null,
   "id": "11751f6e-211d-491c-8c5a-1faa90808f66",
   "metadata": {},
   "outputs": [],
   "source": [
    "# Remettre le jeu à zéro\n",
    "obs = env.reset()\n",
    "# Partie non terminée\n",
    "done = False\n",
    "# Une partie\n",
    "for game in range(1): \n",
    "    nb_vie = 5\n",
    "    while not nb_vie == 0: \n",
    "        env.render()\n",
    "        # Modèle choisit \n",
    "        action = env.action_space.sample()\n",
    "        obs, reward, dead , info = env.step([action])\n",
    "        if dead :\n",
    "            nb_vie = nb_vie - 1\n",
    "        time.sleep(0.1)"
   ]
  },
  {
   "cell_type": "code",
   "execution_count": null,
   "id": "5e47c72e-6a95-472a-974b-92386c1b9090",
   "metadata": {},
   "outputs": [],
   "source": [
    "env.close()"
   ]
  }
 ],
 "metadata": {
  "kernelspec": {
   "display_name": "PBIA_Env",
   "language": "python",
   "name": "pbia_env"
  },
  "language_info": {
   "codemirror_mode": {
    "name": "ipython",
    "version": 3
   },
   "file_extension": ".py",
   "mimetype": "text/x-python",
   "name": "python",
   "nbconvert_exporter": "python",
   "pygments_lexer": "ipython3",
   "version": "3.7.17"
  }
 },
 "nbformat": 4,
 "nbformat_minor": 5
}

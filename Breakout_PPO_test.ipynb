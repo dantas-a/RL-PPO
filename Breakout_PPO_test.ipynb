{
 "cells": [
  {
   "cell_type": "code",
   "execution_count": 1,
   "id": "3199cc16-b05f-4f00-92b9-42e844b716ae",
   "metadata": {},
   "outputs": [
    {
     "name": "stderr",
     "output_type": "stream",
     "text": [
      "/home/alexandre/INSA/GM5/T2/PBIA/PBIA_Env/lib/python3.7/site-packages/tqdm/auto.py:21: TqdmWarning: IProgress not found. Please update jupyter and ipywidgets. See https://ipywidgets.readthedocs.io/en/stable/user_install.html\n",
      "  from .autonotebook import tqdm as notebook_tqdm\n"
     ]
    }
   ],
   "source": [
    "from stable_baselines3.common.env_util import make_atari_env\n",
    "import time\n",
    "import os"
   ]
  },
  {
   "cell_type": "code",
   "execution_count": 2,
   "id": "55f14b06-2814-4030-b4e9-d341835954a5",
   "metadata": {},
   "outputs": [],
   "source": [
    "env = make_atari_env(\"BreakoutNoFrameskip-v4\")"
   ]
  },
  {
   "cell_type": "code",
   "execution_count": 3,
   "id": "6e342d45-9a97-449b-8574-2fbe647d7061",
   "metadata": {},
   "outputs": [],
   "source": [
    "from stable_baselines3 import PPO\n",
    "from stable_baselines3.common.vec_env import VecFrameStack"
   ]
  },
  {
   "cell_type": "code",
   "execution_count": 4,
   "id": "cb4faa95-2d22-4165-95d8-cbfd136091ba",
   "metadata": {},
   "outputs": [],
   "source": [
    "#Empile 4 images consécutives pour donner la perception de mouvement\n",
    "env = VecFrameStack(env, 4, channels_order='last')"
   ]
  },
  {
   "cell_type": "code",
   "execution_count": 5,
   "id": "a366bedf-3319-4e76-954e-c7d19b358794",
   "metadata": {},
   "outputs": [
    {
     "data": {
      "text/plain": [
       "Discrete(4)"
      ]
     },
     "execution_count": 5,
     "metadata": {},
     "output_type": "execute_result"
    }
   ],
   "source": [
    "env.action_space"
   ]
  },
  {
   "cell_type": "code",
   "execution_count": 6,
   "id": "426afd26-ab4a-4741-83fe-cc2d4b4f498b",
   "metadata": {},
   "outputs": [
    {
     "data": {
      "text/plain": [
       "Box([[[0 0 0 0]\n",
       "  [0 0 0 0]\n",
       "  [0 0 0 0]\n",
       "  ...\n",
       "  [0 0 0 0]\n",
       "  [0 0 0 0]\n",
       "  [0 0 0 0]]\n",
       "\n",
       " [[0 0 0 0]\n",
       "  [0 0 0 0]\n",
       "  [0 0 0 0]\n",
       "  ...\n",
       "  [0 0 0 0]\n",
       "  [0 0 0 0]\n",
       "  [0 0 0 0]]\n",
       "\n",
       " [[0 0 0 0]\n",
       "  [0 0 0 0]\n",
       "  [0 0 0 0]\n",
       "  ...\n",
       "  [0 0 0 0]\n",
       "  [0 0 0 0]\n",
       "  [0 0 0 0]]\n",
       "\n",
       " ...\n",
       "\n",
       " [[0 0 0 0]\n",
       "  [0 0 0 0]\n",
       "  [0 0 0 0]\n",
       "  ...\n",
       "  [0 0 0 0]\n",
       "  [0 0 0 0]\n",
       "  [0 0 0 0]]\n",
       "\n",
       " [[0 0 0 0]\n",
       "  [0 0 0 0]\n",
       "  [0 0 0 0]\n",
       "  ...\n",
       "  [0 0 0 0]\n",
       "  [0 0 0 0]\n",
       "  [0 0 0 0]]\n",
       "\n",
       " [[0 0 0 0]\n",
       "  [0 0 0 0]\n",
       "  [0 0 0 0]\n",
       "  ...\n",
       "  [0 0 0 0]\n",
       "  [0 0 0 0]\n",
       "  [0 0 0 0]]], [[[255 255 255 255]\n",
       "  [255 255 255 255]\n",
       "  [255 255 255 255]\n",
       "  ...\n",
       "  [255 255 255 255]\n",
       "  [255 255 255 255]\n",
       "  [255 255 255 255]]\n",
       "\n",
       " [[255 255 255 255]\n",
       "  [255 255 255 255]\n",
       "  [255 255 255 255]\n",
       "  ...\n",
       "  [255 255 255 255]\n",
       "  [255 255 255 255]\n",
       "  [255 255 255 255]]\n",
       "\n",
       " [[255 255 255 255]\n",
       "  [255 255 255 255]\n",
       "  [255 255 255 255]\n",
       "  ...\n",
       "  [255 255 255 255]\n",
       "  [255 255 255 255]\n",
       "  [255 255 255 255]]\n",
       "\n",
       " ...\n",
       "\n",
       " [[255 255 255 255]\n",
       "  [255 255 255 255]\n",
       "  [255 255 255 255]\n",
       "  ...\n",
       "  [255 255 255 255]\n",
       "  [255 255 255 255]\n",
       "  [255 255 255 255]]\n",
       "\n",
       " [[255 255 255 255]\n",
       "  [255 255 255 255]\n",
       "  [255 255 255 255]\n",
       "  ...\n",
       "  [255 255 255 255]\n",
       "  [255 255 255 255]\n",
       "  [255 255 255 255]]\n",
       "\n",
       " [[255 255 255 255]\n",
       "  [255 255 255 255]\n",
       "  [255 255 255 255]\n",
       "  ...\n",
       "  [255 255 255 255]\n",
       "  [255 255 255 255]\n",
       "  [255 255 255 255]]], (84, 84, 4), uint8)"
      ]
     },
     "execution_count": 6,
     "metadata": {},
     "output_type": "execute_result"
    }
   ],
   "source": [
    "env.observation_space"
   ]
  },
  {
   "cell_type": "code",
   "execution_count": 7,
   "id": "df000eb9-6b24-4b17-811a-fd20cb6863a1",
   "metadata": {
    "scrolled": true
   },
   "outputs": [],
   "source": [
    "SAVE_DIR = './save/'\n",
    "\n",
    "model = PPO.load(os.path.join(SAVE_DIR,'breakout_best_save_ppo_second_try'))"
   ]
  },
  {
   "cell_type": "code",
   "execution_count": 8,
   "id": "9c0d5818-d5d4-4b46-bb1a-9c5dbe3bd220",
   "metadata": {},
   "outputs": [
    {
     "data": {
      "text/plain": [
       "ActorCriticCnnPolicy(\n",
       "  (features_extractor): NatureCNN(\n",
       "    (cnn): Sequential(\n",
       "      (0): Conv2d(4, 32, kernel_size=(8, 8), stride=(4, 4))\n",
       "      (1): ReLU()\n",
       "      (2): Conv2d(32, 64, kernel_size=(4, 4), stride=(2, 2))\n",
       "      (3): ReLU()\n",
       "      (4): Conv2d(64, 64, kernel_size=(3, 3), stride=(1, 1))\n",
       "      (5): ReLU()\n",
       "      (6): Flatten(start_dim=1, end_dim=-1)\n",
       "    )\n",
       "    (linear): Sequential(\n",
       "      (0): Linear(in_features=3136, out_features=512, bias=True)\n",
       "      (1): ReLU()\n",
       "    )\n",
       "  )\n",
       "  (mlp_extractor): MlpExtractor(\n",
       "    (shared_net): Sequential()\n",
       "    (policy_net): Sequential()\n",
       "    (value_net): Sequential()\n",
       "  )\n",
       "  (action_net): Linear(in_features=512, out_features=4, bias=True)\n",
       "  (value_net): Linear(in_features=512, out_features=1, bias=True)\n",
       ")"
      ]
     },
     "execution_count": 8,
     "metadata": {},
     "output_type": "execute_result"
    }
   ],
   "source": [
    "model.policy"
   ]
  },
  {
   "cell_type": "code",
   "execution_count": null,
   "id": "11751f6e-211d-491c-8c5a-1faa90808f66",
   "metadata": {},
   "outputs": [],
   "source": [
    "# Remettre le jeu à zéro\n",
    "obs = env.reset()\n",
    "# Partie non terminée\n",
    "done = False\n",
    "# Une partie\n",
    "for game in range(1): \n",
    "    nb_vie = 5\n",
    "    while not nb_vie == 0: \n",
    "        env.render()\n",
    "        # Modèle choisit \n",
    "        action = model.predict(obs)[0]\n",
    "        obs, reward, dead , info = env.step([action])\n",
    "        if dead :\n",
    "            nb_vie = nb_vie - 1\n",
    "        time.sleep(0.05)"
   ]
  },
  {
   "cell_type": "code",
   "execution_count": null,
   "id": "69a780f4-add4-4d95-a568-5e49d6157e4c",
   "metadata": {},
   "outputs": [],
   "source": [
    "env.close()"
   ]
  }
 ],
 "metadata": {
  "kernelspec": {
   "display_name": "PBIA_Env",
   "language": "python",
   "name": "pbia_env"
  },
  "language_info": {
   "codemirror_mode": {
    "name": "ipython",
    "version": 3
   },
   "file_extension": ".py",
   "mimetype": "text/x-python",
   "name": "python",
   "nbconvert_exporter": "python",
   "pygments_lexer": "ipython3",
   "version": "3.7.17"
  }
 },
 "nbformat": 4,
 "nbformat_minor": 5
}
